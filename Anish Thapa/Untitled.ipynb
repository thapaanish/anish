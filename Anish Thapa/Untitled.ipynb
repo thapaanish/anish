{
 "cells": [
  {
   "cell_type": "markdown",
   "metadata": {},
   "source": [
    "Q.1 Write a Python program to replace last value of tuples in a list.\n",
    "Sample list: [(10, 20, 40), (40, 50, 60), (70, 80, 90)]\n",
    "\n",
    "Expected Output: [(10, 20, 100), (40, 50, 100), (70, 80, 100)]\n",
    "\n",
    "\n"
   ]
  },
  {
   "cell_type": "code",
   "execution_count": 2,
   "metadata": {},
   "outputs": [
    {
     "name": "stdout",
     "output_type": "stream",
     "text": [
      "[(10, 20, 100), (40, 50, 100), (70, 80, 100)]\n"
     ]
    }
   ],
   "source": [
    "# Solution\n",
    "x = [(10, 20, 40), (40, 50, 60), (70, 80, 90)]\n",
    "print([t[:-1] + (100,) for t in x])"
   ]
  },
  {
   "cell_type": "markdown",
   "metadata": {},
   "source": [
    "Q.2 You are given a string and your task is to swap cases. In other words, convert all lowercase letters to uppercase letters and vice versa.\n",
    "\n",
    "input: 'This is mE 123'\n",
    "​\n",
    "output: 'tHIS IS Me 123'\n",
    "\n"
   ]
  },
  {
   "cell_type": "code",
   "execution_count": 1,
   "metadata": {},
   "outputs": [
    {
     "name": "stdout",
     "output_type": "stream",
     "text": [
      "tHIS IS Me 123\n"
     ]
    }
   ],
   "source": [
    "#solution\n",
    "a = \"This is mE 123\"\n",
    "print(a.swapcase())"
   ]
  },
  {
   "cell_type": "markdown",
   "metadata": {},
   "source": [
    "Q.3 The user enters a string and a substring. You have to print the number of times that the substring occurs in the given string. String traversal will take place from left to right, not from right to left.\n",
    "Input:\n",
    "\n",
    "ABCDCDC\n",
    "\n",
    "CDC\n",
    "\n",
    "Output:\n",
    "\n",
    "2\n",
    "\n"
   ]
  },
  {
   "cell_type": "code",
   "execution_count": null,
   "metadata": {},
   "outputs": [],
   "source": [
    "#solution\n",
    "string = input(\"Enter the strings:\")\n",
    "substring = input(\"Enter the substrings:\")\n",
    "count = string.count(substring)\n",
    "count"
   ]
  },
  {
   "cell_type": "markdown",
   "metadata": {},
   "source": [
    "Q.4 Write a class in which its one method accepts a string from console and \n",
    "another method to print the characters that have even indexes."
   ]
  },
  {
   "cell_type": "code",
   "execution_count": null,
   "metadata": {},
   "outputs": [],
   "source": [
    "#solution\n",
    "class EvenIndexes:\n",
    "    def __init__(self):\n",
    "        self.string=\"\"\n",
    "        \n",
    "    def get(self):\n",
    "        string = input(\"Enter the characters:\")\n",
    "        for index in range(len(string)):\n",
    "            #checks the even indexes and prints it\n",
    "            if(index % 2 == 0):\n",
    "                print(stirng[index], end=\"\")\n",
    "obj = EvenIndexes()\n",
    "obj.get()"
   ]
  },
  {
   "cell_type": "markdown",
   "metadata": {},
   "source": []
  },
  {
   "cell_type": "code",
   "execution_count": null,
   "metadata": {},
   "outputs": [],
   "source": []
  }
 ],
 "metadata": {
  "kernelspec": {
   "display_name": "Python 3",
   "language": "python",
   "name": "python3"
  },
  "language_info": {
   "codemirror_mode": {
    "name": "ipython",
    "version": 3
   },
   "file_extension": ".py",
   "mimetype": "text/x-python",
   "name": "python",
   "nbconvert_exporter": "python",
   "pygments_lexer": "ipython3",
   "version": "3.6.5"
  }
 },
 "nbformat": 4,
 "nbformat_minor": 2
}
